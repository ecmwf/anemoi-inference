{
 "cells": [
  {
   "cell_type": "code",
   "execution_count": 1,
   "id": "8d54e9ea-b758-46d4-879b-4e84f30d935b",
   "metadata": {},
   "outputs": [],
   "source": [
    "import logging\n",
    "import os\n",
    "import warnings\n",
    "from collections import defaultdict\n",
    "from functools import cached_property\n",
    "\n",
    "import numpy as np\n",
    "from anemoi.transform.variables import Variable\n",
    "from anemoi.utils.config import DotDict\n",
    "from anemoi.utils.dates import frequency_to_timedelta as to_timedelta\n",
    "from icecream import ic"
   ]
  },
  {
   "cell_type": "code",
   "execution_count": 2,
   "id": "7cb0fc1a-195f-4ed1-8f6c-6244c5d52a3d",
   "metadata": {},
   "outputs": [],
   "source": [
    "from anemoi.inference.ds_checkpoint import Checkpoint_1,Checkpoint_0\n",
    "from anemoi.inference.checkpoint import Checkpoint"
   ]
  },
  {
   "cell_type": "code",
   "execution_count": 3,
   "id": "a6a04d90-a74b-49a2-88c4-92710b42c17b",
   "metadata": {},
   "outputs": [],
   "source": [
    "path = \"/home/ecm5702/scratch/aifs/era48_era64/checkpoint/2289ef7686024c57929716a479b12fbb/inference-anemoi-by_epoch-epoch_013-step_001568.ckpt\""
   ]
  },
  {
   "cell_type": "code",
   "execution_count": 41,
   "id": "a7481694-1971-4ff4-8485-0e0e8218ab8a",
   "metadata": {},
   "outputs": [],
   "source": [
    "path = \"/home/ecm5702/scratch/aifs/era_anopern320/checkpoint/10914895c3ee4ee8992d567b5ce7fe2c/inference-anemoi-by_time-epoch_311-step_1180538.ckpt\""
   ]
  },
  {
   "cell_type": "code",
   "execution_count": null,
   "id": "ec0250e9-cf5c-4419-a61c-517e69b4c034",
   "metadata": {},
   "outputs": [],
   "source": []
  },
  {
   "cell_type": "code",
   "execution_count": 39,
   "id": "923d5d79-8a1e-4bea-946e-630b9a43dae2",
   "metadata": {},
   "outputs": [],
   "source": [
    "from anemoi.inference.metadata import Metadata\n",
    "from anemoi.utils.checkpoints import load_metadata"
   ]
  },
  {
   "cell_type": "code",
   "execution_count": 42,
   "id": "de5d294a-8bc4-4a32-8157-8945fbd9d161",
   "metadata": {},
   "outputs": [],
   "source": [
    "metadata = Metadata(*load_metadata(path, supporting_arrays=True))"
   ]
  },
  {
   "cell_type": "code",
   "execution_count": 44,
   "id": "05355b42-c706-4b75-bda7-db9f28ae169f",
   "metadata": {},
   "outputs": [
    {
     "data": {
      "text/plain": [
       "DotDict({'data': DotDict({'input_0': DotDict({'full': [0, 1, 2, 3, 4, 5, 6, 7, 8, 9, 10, 11, 12, 13, 14, 15, 16, 17, 18, 19, 20, 21, 22, 23, 24, 25, 26, 27, 28, 29, 30, 31, 32, 33, 34, 35, 36, 37, 38, 39, 40, 41, 42, 43, 44, 45, 46, 47, 48, 49, 50, 51, 52, 53, 54, 55, 56, 57, 58, 59, 60, 61, 62, 63, 64, 65, 66, 67, 68, 69, 70, 71, 72, 73, 74, 75, 76, 77, 78, 79, 80, 81, 82, 83, 84, 85, 86, 87, 88, 89, 92, 93, 94, 95, 96, 97, 98, 99, 100], 'prognostic': [0, 1, 2, 3, 4, 5, 6, 7, 8, 9, 10, 11, 12, 13, 14, 15, 16, 17, 18, 19, 20, 21, 22, 23, 24, 25, 26, 27, 28, 29, 30, 31, 32, 33, 34, 35, 36, 37, 38, 39, 40, 41, 42, 43, 44, 45, 46, 47, 48, 49, 50, 51, 52, 53, 54, 55, 56, 57, 58, 59, 60, 61, 62, 63, 64, 65, 66, 67, 68, 69, 70, 71, 72, 73, 74, 75, 76, 77, 78, 79, 80, 81, 83, 85, 87, 88, 99], 'diagnostic': [82, 84, 86, 89, 92, 93, 94, 95, 96, 97, 98, 100], 'forcing': [82, 84, 86, 89, 92, 93, 94, 95, 96, 97, 98, 100]}), 'output': DotDict({'full': [0, 1, 2, 3, 4, 5, 6, 7, 8, 9, 10, 11, 12, 13, 14, 15, 16, 17, 18, 19, 20, 21, 22, 23, 24, 25, 26, 27, 28, 29, 30, 31, 32, 33, 34, 35, 36, 37, 38, 39, 40, 41, 42, 43, 44, 45, 46, 47, 48, 49, 50, 51, 52, 53, 54, 55, 56, 57, 58, 59, 60, 61, 62, 63, 64, 65, 66, 67, 68, 69, 70, 71, 72, 73, 74, 75, 76, 77, 78, 79, 80, 81, 83, 85, 87, 88, 90, 91, 99], 'prognostic': [0, 1, 2, 3, 4, 5, 6, 7, 8, 9, 10, 11, 12, 13, 14, 15, 16, 17, 18, 19, 20, 21, 22, 23, 24, 25, 26, 27, 28, 29, 30, 31, 32, 33, 34, 35, 36, 37, 38, 39, 40, 41, 42, 43, 44, 45, 46, 47, 48, 49, 50, 51, 52, 53, 54, 55, 56, 57, 58, 59, 60, 61, 62, 63, 64, 65, 66, 67, 68, 69, 70, 71, 72, 73, 74, 75, 76, 77, 78, 79, 80, 81, 83, 85, 87, 88, 99], 'diagnostic': [90, 91], 'forcing': [90, 91]})}), 'model': DotDict({'input_0': DotDict({'full': [0, 1, 2, 3, 4, 5, 6, 7, 8, 9, 10, 11, 12, 13, 14, 15, 16, 17, 18, 19, 20, 21, 22, 23, 24, 25, 26, 27, 28, 29, 30, 31, 32, 33, 34, 35, 36, 37, 38, 39, 40, 41, 42, 43, 44, 45, 46, 47, 48, 49, 50, 51, 52, 53, 54, 55, 56, 57, 58, 59, 60, 61, 62, 63, 64, 65, 66, 67, 68, 69, 70, 71, 72, 73, 74, 75, 76, 77, 78, 79, 80, 81, 82, 83, 84, 85, 86, 87, 88, 89, 90, 91, 92, 93, 94, 95, 96, 97, 98], 'prognostic': [0, 1, 2, 3, 4, 5, 6, 7, 8, 9, 10, 11, 12, 13, 14, 15, 16, 17, 18, 19, 20, 21, 22, 23, 24, 25, 26, 27, 28, 29, 30, 31, 32, 33, 34, 35, 36, 37, 38, 39, 40, 41, 42, 43, 44, 45, 46, 47, 48, 49, 50, 51, 52, 53, 54, 55, 56, 57, 58, 59, 60, 61, 62, 63, 64, 65, 66, 67, 68, 69, 70, 71, 72, 73, 74, 75, 76, 77, 78, 79, 80, 81, 83, 85, 87, 88, 97], 'diagnostic': [82, 84, 86, 89, 90, 91, 92, 93, 94, 95, 96, 98], 'forcing': [82, 84, 86, 89, 90, 91, 92, 93, 94, 95, 96, 98]}), 'output': DotDict({'full': [0, 1, 2, 3, 4, 5, 6, 7, 8, 9, 10, 11, 12, 13, 14, 15, 16, 17, 18, 19, 20, 21, 22, 23, 24, 25, 26, 27, 28, 29, 30, 31, 32, 33, 34, 35, 36, 37, 38, 39, 40, 41, 42, 43, 44, 45, 46, 47, 48, 49, 50, 51, 52, 53, 54, 55, 56, 57, 58, 59, 60, 61, 62, 63, 64, 65, 66, 67, 68, 69, 70, 71, 72, 73, 74, 75, 76, 77, 78, 79, 80, 81, 82, 83, 84, 85, 86, 87, 88], 'prognostic': [0, 1, 2, 3, 4, 5, 6, 7, 8, 9, 10, 11, 12, 13, 14, 15, 16, 17, 18, 19, 20, 21, 22, 23, 24, 25, 26, 27, 28, 29, 30, 31, 32, 33, 34, 35, 36, 37, 38, 39, 40, 41, 42, 43, 44, 45, 46, 47, 48, 49, 50, 51, 52, 53, 54, 55, 56, 57, 58, 59, 60, 61, 62, 63, 64, 65, 66, 67, 68, 69, 70, 71, 72, 73, 74, 75, 76, 77, 78, 79, 80, 81, 82, 83, 84, 85, 88], 'diagnostic': [86, 87], 'forcing': [86, 87]})})})"
      ]
     },
     "execution_count": 44,
     "metadata": {},
     "output_type": "execute_result"
    }
   ],
   "source": [
    "metadata._metadata.data_indices"
   ]
  },
  {
   "cell_type": "code",
   "execution_count": 45,
   "id": "18ff1806-dbc3-4c36-8c1c-15c7a8332df8",
   "metadata": {},
   "outputs": [
    {
     "data": {
      "text/plain": [
       "DotDict({'full': [0, 1, 2, 3, 4, 5, 6, 7, 8, 9, 10, 11, 12, 13, 14, 15, 16, 17, 18, 19, 20, 21, 22, 23, 24, 25, 26, 27, 28, 29, 30, 31, 32, 33, 34, 35, 36, 37, 38, 39, 40, 41, 42, 43, 44, 45, 46, 47, 48, 49, 50, 51, 52, 53, 54, 55, 56, 57, 58, 59, 60, 61, 62, 63, 64, 65, 66, 67, 68, 69, 70, 71, 72, 73, 74, 75, 76, 77, 78, 79, 80, 81, 82, 83, 84, 85, 86, 87, 88], 'prognostic': [0, 1, 2, 3, 4, 5, 6, 7, 8, 9, 10, 11, 12, 13, 14, 15, 16, 17, 18, 19, 20, 21, 22, 23, 24, 25, 26, 27, 28, 29, 30, 31, 32, 33, 34, 35, 36, 37, 38, 39, 40, 41, 42, 43, 44, 45, 46, 47, 48, 49, 50, 51, 52, 53, 54, 55, 56, 57, 58, 59, 60, 61, 62, 63, 64, 65, 66, 67, 68, 69, 70, 71, 72, 73, 74, 75, 76, 77, 78, 79, 80, 81, 82, 83, 84, 85, 88], 'diagnostic': [86, 87], 'forcing': [86, 87]})"
      ]
     },
     "execution_count": 45,
     "metadata": {},
     "output_type": "execute_result"
    }
   ],
   "source": [
    "metadata._metadata.data_indices.model.output"
   ]
  },
  {
   "cell_type": "code",
   "execution_count": null,
   "id": "ee5620c3-1e39-4754-9493-4a732313d1bb",
   "metadata": {},
   "outputs": [],
   "source": []
  },
  {
   "cell_type": "code",
   "execution_count": 35,
   "id": "32e31f85-bde2-4193-be57-8358747855fc",
   "metadata": {},
   "outputs": [
    {
     "data": {
      "text/plain": [
       "dict_keys(['input_0', 'output'])"
      ]
     },
     "execution_count": 35,
     "metadata": {},
     "output_type": "execute_result"
    }
   ],
   "source": [
    "checkpoint._metadata._indices.data.keys()"
   ]
  },
  {
   "cell_type": "code",
   "execution_count": 28,
   "id": "3e474872-08e0-4a42-8e38-5a0293abd1db",
   "metadata": {},
   "outputs": [
    {
     "name": "stderr",
     "output_type": "stream",
     "text": [
      "ic| checkpoint._metadata._indices: DotDict({'data': DotDict({'input_0': DotDict({'full': [0, 1, 2, 3, 4, 5, 6, 7, 8, 9, 10, 11, 12, 13, 14, 15, 16, 17, 18, 19, 20, 21, 22, 23, 24, 25, 26, 27, 28, 29, 30, 31, 32, 33, 34, 35, 36, 37, 38, 39, 40, 41, 42, 43, 44, 45, 46, 47, 48, 49, 50, 51, 52, 53, 54, 55, 56, 57, 58, 59, 60, 61, 62, 63, 64, 65, 66, 67, 68, 69, 70, 71, 72, 73, 74, 75, 76, 77, 78, 79, 80, 81, 82, 83, 84, 85, 86, 87, 88, 89, 92, 93, 94, 95, 96, 97, 98, 99, 100], 'prognostic': [0, 1, 2, 3, 4, 5, 6, 7, 8, 9, 10, 11, 12, 13, 14, 15, 16, 17, 18, 19, 20, 21, 22, 23, 24, 25, 26, 27, 28, 29, 30, 31, 32, 33, 34, 35, 36, 37, 38, 39, 40, 41, 42, 43, 44, 45, 46, 47, 48, 49, 50, 51, 52, 53, 54, 55, 56, 57, 58, 59, 60, 61, 62, 63, 64, 65, 66, 67, 68, 69, 70, 71, 72, 73, 74, 75, 76, 77, 78, 79, 80, 81, 83, 85, 87, 88, 99], 'diagnostic': [82, 84, 86, 89, 92, 93, 94, 95, 96, 97, 98, 100], 'forcing': [82, 84, 86, 89, 92, 93, 94, 95, 96, 97, 98, 100]}), 'output': DotDict({'full': [0, 1, 2, 3, 4, 5, 6, 7, 8, 9, 10, 11, 12, 13, 14, 15, 16, 17, 18, 19, 20, 21, 22, 23, 24, 25, 26, 27, 28, 29, 30, 31, 32, 33, 34, 35, 36, 37, 38, 39, 40, 41, 42, 43, 44, 45, 46, 47, 48, 49, 50, 51, 52, 53, 54, 55, 56, 57, 58, 59, 60, 61, 62, 63, 64, 65, 66, 67, 68, 69, 70, 71, 72, 73, 74, 75, 76, 77, 78, 79, 80, 81, 83, 85, 87, 88, 90, 91, 99], 'prognostic': [0, 1, 2, 3, 4, 5, 6, 7, 8, 9, 10, 11, 12, 13, 14, 15, 16, 17, 18, 19, 20, 21, 22, 23, 24, 25, 26, 27, 28, 29, 30, 31, 32, 33, 34, 35, 36, 37, 38, 39, 40, 41, 42, 43, 44, 45, 46, 47, 48, 49, 50, 51, 52, 53, 54, 55, 56, 57, 58, 59, 60, 61, 62, 63, 64, 65, 66, 67, 68, 69, 70, 71, 72, 73, 74, 75, 76, 77, 78, 79, 80, 81, 83, 85, 87, 88, 99], 'diagnostic': [90, 91], 'forcing': [90, 91]})}), 'model': DotDict({'input_0': DotDict({'full': [0, 1, 2, 3, 4, 5, 6, 7, 8, 9, 10, 11, 12, 13, 14, 15, 16, 17, 18, 19, 20, 21, 22, 23, 24, 25, 26, 27, 28, 29, 30, 31, 32, 33, 34, 35, 36, 37, 38, 39, 40, 41, 42, 43, 44, 45, 46, 47, 48, 49, 50, 51, 52, 53, 54, 55, 56, 57, 58, 59, 60, 61, 62, 63, 64, 65, 66, 67, 68, 69, 70, 71, 72, 73, 74, 75, 76, 77, 78, 79, 80, 81, 82, 83, 84, 85, 86, 87, 88, 89, 90, 91, 92, 93, 94, 95, 96, 97, 98], 'prognostic': [0, 1, 2, 3, 4, 5, 6, 7, 8, 9, 10, 11, 12, 13, 14, 15, 16, 17, 18, 19, 20, 21, 22, 23, 24, 25, 26, 27, 28, 29, 30, 31, 32, 33, 34, 35, 36, 37, 38, 39, 40, 41, 42, 43, 44, 45, 46, 47, 48, 49, 50, 51, 52, 53, 54, 55, 56, 57, 58, 59, 60, 61, 62, 63, 64, 65, 66, 67, 68, 69, 70, 71, 72, 73, 74, 75, 76, 77, 78, 79, 80, 81, 83, 85, 87, 88, 97], 'diagnostic': [82, 84, 86, 89, 90, 91, 92, 93, 94, 95, 96, 98], 'forcing': [82, 84, 86, 89, 90, 91, 92, 93, 94, 95, 96, 98]}), 'output': DotDict({'full': [0, 1, 2, 3, 4, 5, 6, 7, 8, 9, 10, 11, 12, 13, 14, 15, 16, 17, 18, 19, 20, 21, 22, 23, 24, 25, 26, 27, 28, 29, 30, 31, 32, 33, 34, 35, 36, 37, 38, 39, 40, 41, 42, 43, 44, 45, 46, 47, 48, 49, 50, 51, 52, 53, 54, 55, 56, 57, 58, 59, 60, 61, 62, 63, 64, 65, 66, 67, 68, 69, 70, 71, 72, 73, 74, 75, 76, 77, 78, 79, 80, 81, 82, 83, 84, 85, 86, 87, 88], 'prognostic': [0, 1, 2, 3, 4, 5, 6, 7, 8, 9, 10, 11, 12, 13, 14, 15, 16, 17, 18, 19, 20, 21, 22, 23, 24, 25, 26, 27, 28, 29, 30, 31, 32, 33, 34, 35, 36, 37, 38, 39, 40, 41, 42, 43, 44, 45, 46, 47, 48, 49, 50, 51, 52, 53, 54, 55, 56, 57, 58, 59, 60, 61, 62, 63, 64, 65, 66, 67, 68, 69, 70, 71, 72, 73, 74, 75, 76, 77, 78, 79, 80, 81, 82, 83, 84, 85, 88], 'diagnostic': [86, 87], 'forcing': [86, 87]})})})\n",
      "ic| checkpoint._metadata.variables: ('q_50',\n",
      "                                     'q_100',\n",
      "                                     'q_150',\n",
      "                                     'q_200',\n",
      "                                     'q_250',\n",
      "                                     'q_300',\n",
      "                                     'q_400',\n",
      "                                     'q_500',\n",
      "                                     'q_600',\n",
      "                                     'q_700',\n",
      "                                     'q_850',\n",
      "                                     'q_925',\n",
      "                                     'q_1000',\n",
      "                                     't_50',\n",
      "                                     't_100',\n",
      "                                     't_150',\n",
      "                                     't_200',\n",
      "                                     't_250',\n",
      "                                     't_300',\n",
      "                                     't_400',\n",
      "                                     't_500',\n",
      "                                     't_600',\n",
      "                                     't_700',\n",
      "                                     't_850',\n",
      "                                     't_925',\n",
      "                                     't_1000',\n",
      "                                     'u_50',\n",
      "                                     'u_100',\n",
      "                                     'u_150',\n",
      "                                     'u_200',\n",
      "                                     'u_250',\n",
      "                                     'u_300',\n",
      "                                     'u_400',\n",
      "                                     'u_500',\n",
      "                                     'u_600',\n",
      "                                     'u_700',\n",
      "                                     'u_850',\n",
      "                                     'u_925',\n",
      "                                     'u_1000',\n",
      "                                     'v_50',\n",
      "                                     'v_100',\n",
      "                                     'v_150',\n",
      "                                     'v_200',\n",
      "                                     'v_250',\n",
      "                                     'v_300',\n",
      "                                     'v_400',\n",
      "                                     'v_500',\n",
      "                                     'v_600',\n",
      "                                     'v_700',\n",
      "                                     'v_850',\n",
      "                                     'v_925',\n",
      "                                     'v_1000',\n",
      "                                     'w_50',\n",
      "                                     'w_100',\n",
      "                                     'w_150',\n",
      "                                     'w_200',\n",
      "                                     'w_250',\n",
      "                                     'w_300',\n",
      "                                     'w_400',\n",
      "                                     'w_500',\n",
      "                                     'w_600',\n",
      "                                     'w_700',\n",
      "                                     'w_850',\n",
      "                                     'w_925',\n",
      "                                     'w_1000',\n",
      "                                     'z_50',\n",
      "                                     'z_100',\n",
      "                                     'z_150',\n",
      "                                     'z_200',\n",
      "                                     'z_250',\n",
      "                                     'z_300',\n",
      "                                     'z_400',\n",
      "                                     'z_500',\n",
      "                                     'z_600',\n",
      "                                     'z_700',\n",
      "                                     'z_850',\n",
      "                                     'z_925',\n",
      "                                     'IOPub message rate exceeded.\n",
      "The Jupyter server will temporarily stop sending output\n",
      "to the client in order to avoid crashing it.\n",
      "To change this limit, set the config variable\n",
      "`--ServerApp.iopub_msg_rate_limit`.\n",
      "\n",
      "Current values:\n",
      "ServerApp.iopub_msg_rate_limit=1000.0 (msgs/sec)\n",
      "ServerApp.rate_limit_window=3.0 (secs)\n",
      "\n"
     ]
    }
   ],
   "source": [
    "checkpoint = Checkpoint(path)\n",
    "ic(checkpoint._metadata._indices)\n",
    "ic(checkpoint._metadata.variables)\n"
   ]
  },
  {
   "cell_type": "code",
   "execution_count": 32,
   "id": "1cd2dd77-b3ad-4bba-a95a-dfad029575c0",
   "metadata": {},
   "outputs": [
    {
     "name": "stderr",
     "output_type": "stream",
     "text": [
      "Version for not support `supporting_arrays` (input_1)\n"
     ]
    },
    {
     "ename": "AttributeError",
     "evalue": "input_1",
     "output_type": "error",
     "traceback": [
      "\u001b[0;31m---------------------------------------------------------------------------\u001b[0m",
      "\u001b[0;31mKeyError\u001b[0m                                  Traceback (most recent call last)",
      "File \u001b[0;32m/etc/ecmwf/nfs/dh2_home_a/ecm5702/dev/anemoi-utils/src/anemoi/utils/config.py:96\u001b[0m, in \u001b[0;36mDotDict.__getattr__\u001b[0;34m(self, attr)\u001b[0m\n\u001b[1;32m     95\u001b[0m \u001b[38;5;28;01mtry\u001b[39;00m:\n\u001b[0;32m---> 96\u001b[0m     \u001b[38;5;28;01mreturn\u001b[39;00m \u001b[38;5;28;43mself\u001b[39;49m\u001b[43m[\u001b[49m\u001b[43mattr\u001b[49m\u001b[43m]\u001b[49m\n\u001b[1;32m     97\u001b[0m \u001b[38;5;28;01mexcept\u001b[39;00m \u001b[38;5;167;01mKeyError\u001b[39;00m:\n",
      "\u001b[0;31mKeyError\u001b[0m: 'input_1'",
      "\nDuring handling of the above exception, another exception occurred:\n",
      "\u001b[0;31mAttributeError\u001b[0m                            Traceback (most recent call last)",
      "File \u001b[0;32m/etc/ecmwf/nfs/dh2_home_a/ecm5702/dev/anemoi-inference/src/anemoi/inference/ds_checkpoint.py:47\u001b[0m, in \u001b[0;36mCheckpoint_1._metadata\u001b[0;34m(self)\u001b[0m\n\u001b[1;32m     46\u001b[0m \u001b[38;5;28;01mtry\u001b[39;00m:\n\u001b[0;32m---> 47\u001b[0m     \u001b[38;5;28;01mreturn\u001b[39;00m \u001b[43mMetadata_1\u001b[49m\u001b[43m(\u001b[49m\u001b[38;5;241;43m*\u001b[39;49m\u001b[43mload_metadata\u001b[49m\u001b[43m(\u001b[49m\u001b[38;5;28;43mself\u001b[39;49m\u001b[38;5;241;43m.\u001b[39;49m\u001b[43mpath\u001b[49m\u001b[43m,\u001b[49m\u001b[43m \u001b[49m\u001b[43msupporting_arrays\u001b[49m\u001b[38;5;241;43m=\u001b[39;49m\u001b[38;5;28;43;01mTrue\u001b[39;49;00m\u001b[43m)\u001b[49m\u001b[43m)\u001b[49m\n\u001b[1;32m     48\u001b[0m \u001b[38;5;28;01mexcept\u001b[39;00m \u001b[38;5;167;01mException\u001b[39;00m \u001b[38;5;28;01mas\u001b[39;00m e:\n",
      "File \u001b[0;32m/etc/ecmwf/nfs/dh2_home_a/ecm5702/dev/anemoi-inference/src/anemoi/inference/ds_metadata.py:36\u001b[0m, in \u001b[0;36mMetadata_1.__init__\u001b[0;34m(self, metadata, supporting_arrays)\u001b[0m\n\u001b[1;32m     35\u001b[0m \u001b[38;5;28msuper\u001b[39m()\u001b[38;5;241m.\u001b[39m\u001b[38;5;21m__init__\u001b[39m(metadata, supporting_arrays)\n\u001b[0;32m---> 36\u001b[0m \u001b[38;5;28mself\u001b[39m\u001b[38;5;241m.\u001b[39m_indices\u001b[38;5;241m.\u001b[39mdata\u001b[38;5;241m.\u001b[39minput \u001b[38;5;241m=\u001b[39m \u001b[38;5;28;43mself\u001b[39;49m\u001b[38;5;241;43m.\u001b[39;49m\u001b[43m_indices\u001b[49m\u001b[38;5;241;43m.\u001b[39;49m\u001b[43mdata\u001b[49m\u001b[38;5;241;43m.\u001b[39;49m\u001b[43minput_1\u001b[49m\n\u001b[1;32m     37\u001b[0m \u001b[38;5;28mself\u001b[39m\u001b[38;5;241m.\u001b[39m_indices\u001b[38;5;241m.\u001b[39mmodel\u001b[38;5;241m.\u001b[39minput \u001b[38;5;241m=\u001b[39m \u001b[38;5;28mself\u001b[39m\u001b[38;5;241m.\u001b[39m_indices\u001b[38;5;241m.\u001b[39mmodel\u001b[38;5;241m.\u001b[39minput_1\n",
      "File \u001b[0;32m/etc/ecmwf/nfs/dh2_home_a/ecm5702/dev/anemoi-utils/src/anemoi/utils/config.py:98\u001b[0m, in \u001b[0;36mDotDict.__getattr__\u001b[0;34m(self, attr)\u001b[0m\n\u001b[1;32m     97\u001b[0m \u001b[38;5;28;01mexcept\u001b[39;00m \u001b[38;5;167;01mKeyError\u001b[39;00m:\n\u001b[0;32m---> 98\u001b[0m     \u001b[38;5;28;01mraise\u001b[39;00m \u001b[38;5;167;01mAttributeError\u001b[39;00m(attr)\n",
      "\u001b[0;31mAttributeError\u001b[0m: input_1",
      "\nDuring handling of the above exception, another exception occurred:\n",
      "\u001b[0;31mKeyError\u001b[0m                                  Traceback (most recent call last)",
      "File \u001b[0;32m/etc/ecmwf/nfs/dh2_home_a/ecm5702/dev/anemoi-utils/src/anemoi/utils/config.py:96\u001b[0m, in \u001b[0;36mDotDict.__getattr__\u001b[0;34m(self, attr)\u001b[0m\n\u001b[1;32m     95\u001b[0m \u001b[38;5;28;01mtry\u001b[39;00m:\n\u001b[0;32m---> 96\u001b[0m     \u001b[38;5;28;01mreturn\u001b[39;00m \u001b[38;5;28;43mself\u001b[39;49m\u001b[43m[\u001b[49m\u001b[43mattr\u001b[49m\u001b[43m]\u001b[49m\n\u001b[1;32m     97\u001b[0m \u001b[38;5;28;01mexcept\u001b[39;00m \u001b[38;5;167;01mKeyError\u001b[39;00m:\n",
      "\u001b[0;31mKeyError\u001b[0m: 'input_1'",
      "\nDuring handling of the above exception, another exception occurred:\n",
      "\u001b[0;31mAttributeError\u001b[0m                            Traceback (most recent call last)",
      "Cell \u001b[0;32mIn[32], line 1\u001b[0m\n\u001b[0;32m----> 1\u001b[0m ic(\u001b[43mcheckpoint_1\u001b[49m\u001b[38;5;241;43m.\u001b[39;49m\u001b[43m_metadata\u001b[49m\u001b[38;5;241m.\u001b[39m_indices\u001b[38;5;241m.\u001b[39mdata)\n",
      "File \u001b[0;32m/perm/ecm5702/conda/envs/aifs/lib/python3.10/functools.py:981\u001b[0m, in \u001b[0;36mcached_property.__get__\u001b[0;34m(self, instance, owner)\u001b[0m\n\u001b[1;32m    979\u001b[0m val \u001b[38;5;241m=\u001b[39m cache\u001b[38;5;241m.\u001b[39mget(\u001b[38;5;28mself\u001b[39m\u001b[38;5;241m.\u001b[39mattrname, _NOT_FOUND)\n\u001b[1;32m    980\u001b[0m \u001b[38;5;28;01mif\u001b[39;00m val \u001b[38;5;129;01mis\u001b[39;00m _NOT_FOUND:\n\u001b[0;32m--> 981\u001b[0m     val \u001b[38;5;241m=\u001b[39m \u001b[38;5;28;43mself\u001b[39;49m\u001b[38;5;241;43m.\u001b[39;49m\u001b[43mfunc\u001b[49m\u001b[43m(\u001b[49m\u001b[43minstance\u001b[49m\u001b[43m)\u001b[49m\n\u001b[1;32m    982\u001b[0m     \u001b[38;5;28;01mtry\u001b[39;00m:\n\u001b[1;32m    983\u001b[0m         cache[\u001b[38;5;28mself\u001b[39m\u001b[38;5;241m.\u001b[39mattrname] \u001b[38;5;241m=\u001b[39m val\n",
      "File \u001b[0;32m/etc/ecmwf/nfs/dh2_home_a/ecm5702/dev/anemoi-inference/src/anemoi/inference/ds_checkpoint.py:50\u001b[0m, in \u001b[0;36mCheckpoint_1._metadata\u001b[0;34m(self)\u001b[0m\n\u001b[1;32m     48\u001b[0m \u001b[38;5;28;01mexcept\u001b[39;00m \u001b[38;5;167;01mException\u001b[39;00m \u001b[38;5;28;01mas\u001b[39;00m e:\n\u001b[1;32m     49\u001b[0m     LOG\u001b[38;5;241m.\u001b[39mwarning(\u001b[38;5;124m\"\u001b[39m\u001b[38;5;124mVersion for not support `supporting_arrays` (\u001b[39m\u001b[38;5;132;01m%s\u001b[39;00m\u001b[38;5;124m)\u001b[39m\u001b[38;5;124m\"\u001b[39m, e)\n\u001b[0;32m---> 50\u001b[0m     \u001b[38;5;28;01mreturn\u001b[39;00m \u001b[43mMetadata_1\u001b[49m\u001b[43m(\u001b[49m\u001b[43mload_metadata\u001b[49m\u001b[43m(\u001b[49m\u001b[38;5;28;43mself\u001b[39;49m\u001b[38;5;241;43m.\u001b[39;49m\u001b[43mpath\u001b[49m\u001b[43m)\u001b[49m\u001b[43m)\u001b[49m\n",
      "File \u001b[0;32m/etc/ecmwf/nfs/dh2_home_a/ecm5702/dev/anemoi-inference/src/anemoi/inference/ds_metadata.py:36\u001b[0m, in \u001b[0;36mMetadata_1.__init__\u001b[0;34m(self, metadata, supporting_arrays)\u001b[0m\n\u001b[1;32m     34\u001b[0m \u001b[38;5;28;01mdef\u001b[39;00m \u001b[38;5;21m__init__\u001b[39m(\u001b[38;5;28mself\u001b[39m, metadata, supporting_arrays\u001b[38;5;241m=\u001b[39m{}):\n\u001b[1;32m     35\u001b[0m     \u001b[38;5;28msuper\u001b[39m()\u001b[38;5;241m.\u001b[39m\u001b[38;5;21m__init__\u001b[39m(metadata, supporting_arrays)\n\u001b[0;32m---> 36\u001b[0m     \u001b[38;5;28mself\u001b[39m\u001b[38;5;241m.\u001b[39m_indices\u001b[38;5;241m.\u001b[39mdata\u001b[38;5;241m.\u001b[39minput \u001b[38;5;241m=\u001b[39m \u001b[38;5;28;43mself\u001b[39;49m\u001b[38;5;241;43m.\u001b[39;49m\u001b[43m_indices\u001b[49m\u001b[38;5;241;43m.\u001b[39;49m\u001b[43mdata\u001b[49m\u001b[38;5;241;43m.\u001b[39;49m\u001b[43minput_1\u001b[49m\n\u001b[1;32m     37\u001b[0m     \u001b[38;5;28mself\u001b[39m\u001b[38;5;241m.\u001b[39m_indices\u001b[38;5;241m.\u001b[39mmodel\u001b[38;5;241m.\u001b[39minput \u001b[38;5;241m=\u001b[39m \u001b[38;5;28mself\u001b[39m\u001b[38;5;241m.\u001b[39m_indices\u001b[38;5;241m.\u001b[39mmodel\u001b[38;5;241m.\u001b[39minput_1\n",
      "File \u001b[0;32m/etc/ecmwf/nfs/dh2_home_a/ecm5702/dev/anemoi-utils/src/anemoi/utils/config.py:98\u001b[0m, in \u001b[0;36mDotDict.__getattr__\u001b[0;34m(self, attr)\u001b[0m\n\u001b[1;32m     96\u001b[0m     \u001b[38;5;28;01mreturn\u001b[39;00m \u001b[38;5;28mself\u001b[39m[attr]\n\u001b[1;32m     97\u001b[0m \u001b[38;5;28;01mexcept\u001b[39;00m \u001b[38;5;167;01mKeyError\u001b[39;00m:\n\u001b[0;32m---> 98\u001b[0m     \u001b[38;5;28;01mraise\u001b[39;00m \u001b[38;5;167;01mAttributeError\u001b[39;00m(attr)\n",
      "\u001b[0;31mAttributeError\u001b[0m: input_1"
     ]
    }
   ],
   "source": [
    "ic(checkpoint_1._metadata._indices.data)"
   ]
  },
  {
   "cell_type": "code",
   "execution_count": 17,
   "id": "75be374f-a1b2-4cb2-b9ed-d4fead17b08e",
   "metadata": {},
   "outputs": [
    {
     "name": "stderr",
     "output_type": "stream",
     "text": [
      "ic| 'Checkpoint_0'\n",
      "ic| checkpoint_0._metadata._indices.model.input.full: [0,\n",
      "                                                       1,\n",
      "                                                       2,\n",
      "                                                       3,\n",
      "                                                       4,\n",
      "                                                       5,\n",
      "                                                       6,\n",
      "                                                       7,\n",
      "                                                       8,\n",
      "                                                       9,\n",
      "                                                       10,\n",
      "                                                       11,\n",
      "                                                       12,\n",
      "                                                       13,\n",
      "                                                       14,\n",
      "                                                       15,\n",
      "                                                       16,\n",
      "                                                       17,\n",
      "                                                       18,\n",
      "                                                       19,\n",
      "                                                       20,\n",
      "                                                       21,\n",
      "                                                       22,\n",
      "                                                       23,\n",
      "                                                       24,\n",
      "                                                       25,\n",
      "                                                       26,\n",
      "                                                       27,\n",
      "                                                       28,\n",
      "                                                       29,\n",
      "                                                       30,\n",
      "                                                       31,\n",
      "                                                       32,\n",
      "                                                       33,\n",
      "                                                       34,\n",
      "                                                       35,\n",
      "                                                       36,\n",
      "                                                       37,\n",
      "                                                       38,\n",
      "                                                       39,\n",
      "                                                       40,\n",
      "                                                       41,\n",
      "                                                       42,\n",
      "                                                       43,\n",
      "                                                       44,\n",
      "                                                       45,\n",
      "                                                       46,\n",
      "                                                       47,\n",
      "                                                       48,\n",
      "                                                       49,\n",
      "                                                       50,\n",
      "                                                       51,\n",
      "                                                       52,\n",
      "                                                       53,\n",
      "                                                       54,\n",
      "                                                       55,\n",
      "                                                       56,\n",
      "                                                       57,\n",
      "                                                       58,\n",
      "                                                       59,\n",
      "                                                       60,\n",
      "                                                       61,\n",
      "                                                       62,\n",
      "                                                       63,\n",
      "                                                       64,\n",
      "                                                       65,\n",
      "                                                       66,\n",
      "                                                       67,\n",
      "                                                       68,\n",
      "                                                       69,\n",
      "                                                       70,\n",
      "                                                       71,\n",
      "                                                       72,\n",
      "                                                       73,\n",
      "                                                       74,\n",
      "                                                       75,\n",
      "                                                       76,\n",
      "                                                       77,\n",
      "                                                       78,\n",
      "                                                       79,\n",
      "                                                       80,\n",
      "                                                       81,\n",
      "                                                       82,\n",
      "                                                       83,\n",
      "                                                       84,\n",
      "                                                       85,\n",
      "                                                       86,\n",
      "                                                       87,\n",
      "                                                       88,\n",
      "                                                       89,\n",
      "                                                       90,\n",
      "                                                       91,\n",
      "                                                       92,\n",
      "                                                       93,\n",
      "                                                       94,\n",
      "                                                       95,\n",
      "                                                       96,\n",
      "                                                       97,\n",
      "                                                       98]\n",
      "ic| checkpoint_0._metadata._indices.model.output.full: [0, 1, 2, 3, 4, 5, 6, 7, 8, 9]\n"
     ]
    },
    {
     "data": {
      "text/plain": [
       "[0, 1, 2, 3, 4, 5, 6, 7, 8, 9]"
      ]
     },
     "execution_count": 17,
     "metadata": {},
     "output_type": "execute_result"
    }
   ],
   "source": [
    "checkpoint_0 = Checkpoint_0(path)\n",
    "ic(checkpoint_0._metadata._indices.model.input.full)\n",
    "ic(checkpoint_0._metadata._indices.model.output.full)"
   ]
  },
  {
   "cell_type": "code",
   "execution_count": 18,
   "id": "c795336d-6df0-44c4-9edc-c2035640b33e",
   "metadata": {},
   "outputs": [
    {
     "data": {
      "text/plain": [
       "[0, 1, 2, 3, 4, 5, 6, 7]"
      ]
     },
     "execution_count": 18,
     "metadata": {},
     "output_type": "execute_result"
    }
   ],
   "source": [
    "checkpoint_0._metadata._indices.model.output.prognostic"
   ]
  },
  {
   "cell_type": "code",
   "execution_count": 19,
   "id": "8ae48d7a-ae7f-428e-93d9-3f636b199b98",
   "metadata": {},
   "outputs": [
    {
     "data": {
      "text/plain": [
       "[0,\n",
       " 1,\n",
       " 2,\n",
       " 3,\n",
       " 4,\n",
       " 5,\n",
       " 6,\n",
       " 7,\n",
       " 8,\n",
       " 9,\n",
       " 10,\n",
       " 11,\n",
       " 12,\n",
       " 13,\n",
       " 14,\n",
       " 15,\n",
       " 16,\n",
       " 17,\n",
       " 18,\n",
       " 19,\n",
       " 20,\n",
       " 21,\n",
       " 22,\n",
       " 23,\n",
       " 24,\n",
       " 25,\n",
       " 26,\n",
       " 27,\n",
       " 28,\n",
       " 29,\n",
       " 30,\n",
       " 31,\n",
       " 32,\n",
       " 33,\n",
       " 34,\n",
       " 35,\n",
       " 36,\n",
       " 37,\n",
       " 38,\n",
       " 39,\n",
       " 40,\n",
       " 41,\n",
       " 42,\n",
       " 43,\n",
       " 44,\n",
       " 45,\n",
       " 46,\n",
       " 47,\n",
       " 48,\n",
       " 49,\n",
       " 50,\n",
       " 51,\n",
       " 52,\n",
       " 53,\n",
       " 54,\n",
       " 55,\n",
       " 56,\n",
       " 57,\n",
       " 58,\n",
       " 59,\n",
       " 60,\n",
       " 61,\n",
       " 62,\n",
       " 63,\n",
       " 64,\n",
       " 65,\n",
       " 66,\n",
       " 67,\n",
       " 68,\n",
       " 69,\n",
       " 70,\n",
       " 71,\n",
       " 72,\n",
       " 73,\n",
       " 74,\n",
       " 75,\n",
       " 76,\n",
       " 77,\n",
       " 78,\n",
       " 79,\n",
       " 80,\n",
       " 81,\n",
       " 83,\n",
       " 85,\n",
       " 87,\n",
       " 88]"
      ]
     },
     "execution_count": 19,
     "metadata": {},
     "output_type": "execute_result"
    }
   ],
   "source": [
    "checkpoint_0._metadata._indices.model.input.prognostic"
   ]
  },
  {
   "cell_type": "code",
   "execution_count": 20,
   "id": "44d8febe-b633-4ee5-b70e-eb3e871f7a5a",
   "metadata": {},
   "outputs": [
    {
     "name": "stderr",
     "output_type": "stream",
     "text": [
      "ic| variables_in_data_space: ('q_50',\n",
      "                              'q_100',\n",
      "                              'q_150',\n",
      "                              'q_200',\n",
      "                              'q_250',\n",
      "                              'q_300',\n",
      "                              'q_400',\n",
      "                              'q_500',\n",
      "                              'q_600',\n",
      "                              'q_700',\n",
      "                              'q_850',\n",
      "                              'q_925',\n",
      "                              'q_1000',\n",
      "                              't_50',\n",
      "                              't_100',\n",
      "                              't_150',\n",
      "                              't_200',\n",
      "                              't_250',\n",
      "                              't_300',\n",
      "                              't_400',\n",
      "                              't_500',\n",
      "                              't_600',\n",
      "                              't_700',\n",
      "                              't_850',\n",
      "                              't_925',\n",
      "                              't_1000',\n",
      "                              'u_50',\n",
      "                              'u_100',\n",
      "                              'u_150',\n",
      "                              'u_200',\n",
      "                              'u_250',\n",
      "                              'u_300',\n",
      "                              'u_400',\n",
      "                              'u_500',\n",
      "                              'u_600',\n",
      "                              'u_700',\n",
      "                              'u_850',\n",
      "                              'u_925',\n",
      "                              'u_1000',\n",
      "                              'v_50',\n",
      "                              'v_100',\n",
      "                              'v_150',\n",
      "                              'v_200',\n",
      "                              'v_250',\n",
      "                              'v_300',\n",
      "                              'v_400',\n",
      "                              'v_500',\n",
      "                              'v_600',\n",
      "                              'v_700',\n",
      "                              'v_850',\n",
      "                              'v_925',\n",
      "                              'v_1000',\n",
      "                              'w_50',\n",
      "                              'w_100',\n",
      "                              'w_150',\n",
      "                              'w_200',\n",
      "                              'w_250',\n",
      "                              'w_300',\n",
      "                              'w_400',\n",
      "                              'w_500',\n",
      "                              'w_600',\n",
      "                              'w_700',\n",
      "                              'w_850',\n",
      "                              'w_925',\n",
      "                              'w_1000',\n",
      "                              'z_50',\n",
      "                              'z_100',\n",
      "                              'z_150',\n",
      "                              'z_200',\n",
      "                              'z_250',\n",
      "                              'z_300',\n",
      "                              'z_400',\n",
      "                              'z_500',\n",
      "                              'z_600',\n",
      "                              'z_700',\n",
      "                              'z_850',\n",
      "                              'z_925',\n",
      "                              'z_1000',\n",
      "                              '10u',\n",
      "                              '10v',\n",
      "                              '2d',\n",
      "                              '2t',\n",
      "                              'lsm',\n",
      "                              'msl',\n",
      "                              'sdor',\n",
      "                              'skt',\n",
      "                              'slor',\n",
      "                              'sp',\n",
      "                              'tcw',\n",
      "                              'z',\n",
      "                              'cp',\n",
      "                              'tp',\n",
      "                              'cos_latitude',\n",
      "                              'cos_longitude',\n",
      "                              'sin_latitude',\n",
      "                              'sin_longitude',\n",
      "                              'cos_julian_day',\n",
      "                              'cos_local_time',\n",
      "                              'sin_julian_day',\n",
      "                              'sin_local_time',\n",
      "                              'insolation')\n",
      "ic| self._indices.model.output.full: [0, 1, 2, 3, 4, 5, 6, 7, 8, 9]\n",
      "    self._indices.data.output.full: [0, 1, 2, 3, 4, 5, 6, 7, 8, 9]\n",
      "    self.variables: ('q_50',\n",
      "                     'q_100',\n",
      "                     'q_150',\n",
      "                     'q_200',\n",
      "                     'q_250',\n",
      "                     'q_300',\n",
      "                     'q_400',\n",
      "                     'q_500',\n",
      "                     'q_600',\n",
      "                     'q_700',\n",
      "                     'q_850',\n",
      "                     'q_925',\n",
      "                     'q_1000',\n",
      "                     't_50',\n",
      "                     't_100',\n",
      "                     't_150',\n",
      "                     't_200',\n",
      "                     't_250',\n",
      "                     't_300',\n",
      "                     't_400',\n",
      "                     't_500',\n",
      "                     't_600',\n",
      "                     't_700',\n",
      "                     't_850',\n",
      "                     't_925',\n",
      "                     't_1000',\n",
      "                     'u_50',\n",
      "                     'u_100',\n",
      "                     'u_150',\n",
      "                     'u_200',\n",
      "                     'u_250',\n",
      "                     'u_300',\n",
      "                     'u_400',\n",
      "                     'u_500',\n",
      "                     'u_600',\n",
      "                     'u_700',\n",
      "                     'u_850',\n",
      "                     'u_925',\n",
      "                     'u_1000',\n",
      "                     'v_50',\n",
      "                     'v_100',\n",
      "                     'v_150',\n",
      "                     'v_200',\n",
      "                     'v_250',\n",
      "                     'v_300',\n",
      "                     'v_400',\n",
      "                     'v_500',\n",
      "                     'v_600',\n",
      "                     'v_700',\n",
      "                     'v_850',\n",
      "                     'v_925',\n",
      "                     'v_1000',\n",
      "                     'w_50',\n",
      "                     'w_100',\n",
      "                     'w_150',\n",
      "                     'w_200',\n",
      "                     'w_250',\n",
      "                     'w_300',\n",
      "                     'w_400',\n",
      "                     'w_500',\n",
      "                     'w_600',\n",
      "                     'w_700',\n",
      "                     'w_850',\n",
      "                     'w_925',\n",
      "                     'w_1000',\n",
      "                     'z_50',\n",
      "                     'z_100',\n",
      "                     'z_150',\n",
      "                     'z_200',\n",
      "                     'z_250',\n",
      "                     'z_300',\n",
      "                     'z_400',\n",
      "                     'z_500',\n",
      "                     'z_600',\n",
      "                     'z_700',\n",
      "                     'z_850',\n",
      "                     'z_925',\n",
      "                     'z_1000',\n",
      "                     '10u',\n",
      "                     '10v',\n",
      "                     '2d',\n",
      "                     '2t',\n",
      "                     'lsm',\n",
      "                     'msl',\n",
      "                     'sdor',\n",
      "                     'skt',\n",
      "                     'slor',\n",
      "                     'sp',\n",
      "                     'tcw',\n",
      "                     'z',\n",
      "                     'cp',\n",
      "                     'tp',\n",
      "                     'cos_latitude',\n",
      "                     'cos_longitude',\n",
      "                     'sin_latitude',\n",
      "                     'sin_longitude',\n",
      "                     'cos_julian_day',\n",
      "                     'cos_local_time',\n",
      "                     'sin_julian_day',\n",
      "                     'sin_local_time',\n",
      "                     'insolation')\n",
      "ic| variables_in_model_space: {0: 'q_50',\n",
      "                               1: 'q_100',\n",
      "                               2: 'q_150',\n",
      "                               3: 'q_200',\n",
      "                               4: 'q_250',\n",
      "                               5: 'q_300',\n",
      "                               6: 'q_400',\n",
      "                               7: 'q_500',\n",
      "                               8: 'q_600',\n",
      "                               9: 'q_700'}\n"
     ]
    },
    {
     "ename": "ValueError",
     "evalue": "Variable q_600 has no category",
     "output_type": "error",
     "traceback": [
      "\u001b[0;31m---------------------------------------------------------------------------\u001b[0m",
      "\u001b[0;31mValueError\u001b[0m                                Traceback (most recent call last)",
      "Cell \u001b[0;32mIn[20], line 1\u001b[0m\n\u001b[0;32m----> 1\u001b[0m ic(\u001b[43mcheckpoint_0\u001b[49m\u001b[38;5;241;43m.\u001b[39;49m\u001b[43m_metadata\u001b[49m\u001b[38;5;241;43m.\u001b[39;49m\u001b[43mvariable_categories\u001b[49m\u001b[43m(\u001b[49m\u001b[43m)\u001b[49m)\n",
      "File \u001b[0;32m/etc/ecmwf/nfs/dh2_home_a/ecm5702/dev/anemoi-inference/src/anemoi/inference/metadata.py:563\u001b[0m, in \u001b[0;36mMetadata.variable_categories\u001b[0;34m(self)\u001b[0m\n\u001b[1;32m    561\u001b[0m \u001b[38;5;28;01mfor\u001b[39;00m name \u001b[38;5;129;01min\u001b[39;00m \u001b[38;5;28mself\u001b[39m\u001b[38;5;241m.\u001b[39mvariables:\n\u001b[1;32m    562\u001b[0m     \u001b[38;5;28;01mif\u001b[39;00m name \u001b[38;5;129;01mnot\u001b[39;00m \u001b[38;5;129;01min\u001b[39;00m result:\n\u001b[0;32m--> 563\u001b[0m         \u001b[38;5;28;01mraise\u001b[39;00m \u001b[38;5;167;01mValueError\u001b[39;00m(\u001b[38;5;124mf\u001b[39m\u001b[38;5;124m\"\u001b[39m\u001b[38;5;124mVariable \u001b[39m\u001b[38;5;132;01m{\u001b[39;00mname\u001b[38;5;132;01m}\u001b[39;00m\u001b[38;5;124m has no category\u001b[39m\u001b[38;5;124m\"\u001b[39m)\n\u001b[1;32m    565\u001b[0m     result[name] \u001b[38;5;241m=\u001b[39m \u001b[38;5;28msorted\u001b[39m(result[name])\n\u001b[1;32m    567\u001b[0m ic(result)\n",
      "\u001b[0;31mValueError\u001b[0m: Variable q_600 has no category"
     ]
    }
   ],
   "source": [
    "\n",
    "ic(checkpoint_0._metadata.variable_categories())"
   ]
  },
  {
   "cell_type": "code",
   "execution_count": 21,
   "id": "dc071be7-3048-4626-8299-6f0b69ac3fc9",
   "metadata": {},
   "outputs": [
    {
     "data": {
      "text/plain": [
       "{0: 'q_50',\n",
       " 1: 'q_100',\n",
       " 2: 'q_150',\n",
       " 3: 'q_200',\n",
       " 4: 'q_250',\n",
       " 5: 'q_300',\n",
       " 6: 'q_400',\n",
       " 7: 'q_500',\n",
       " 8: 'q_600',\n",
       " 9: 'q_700'}"
      ]
     },
     "execution_count": 21,
     "metadata": {},
     "output_type": "execute_result"
    }
   ],
   "source": [
    "checkpoint_0._metadata.output_tensor_index_to_variable"
   ]
  },
  {
   "cell_type": "code",
   "execution_count": 22,
   "id": "c1a5ae5e-e6fe-415a-9dd7-7c0f6c5ea0e4",
   "metadata": {},
   "outputs": [
    {
     "name": "stderr",
     "output_type": "stream",
     "text": [
      "ic| 'Checkpoint_1'\n"
     ]
    }
   ],
   "source": [
    "checkpoint_1 = Checkpoint_1(path)"
   ]
  },
  {
   "cell_type": "code",
   "execution_count": 23,
   "id": "1f859de2-1649-46aa-8c9f-4a2e6eb3455b",
   "metadata": {
    "scrolled": true
   },
   "outputs": [
    {
     "name": "stderr",
     "output_type": "stream",
     "text": [
      "Version for not support `supporting_arrays` (input_1)\n"
     ]
    },
    {
     "ename": "AttributeError",
     "evalue": "input_1",
     "output_type": "error",
     "traceback": [
      "\u001b[0;31m---------------------------------------------------------------------------\u001b[0m",
      "\u001b[0;31mKeyError\u001b[0m                                  Traceback (most recent call last)",
      "File \u001b[0;32m/etc/ecmwf/nfs/dh2_home_a/ecm5702/dev/anemoi-utils/src/anemoi/utils/config.py:96\u001b[0m, in \u001b[0;36mDotDict.__getattr__\u001b[0;34m(self, attr)\u001b[0m\n\u001b[1;32m     95\u001b[0m \u001b[38;5;28;01mtry\u001b[39;00m:\n\u001b[0;32m---> 96\u001b[0m     \u001b[38;5;28;01mreturn\u001b[39;00m \u001b[38;5;28;43mself\u001b[39;49m\u001b[43m[\u001b[49m\u001b[43mattr\u001b[49m\u001b[43m]\u001b[49m\n\u001b[1;32m     97\u001b[0m \u001b[38;5;28;01mexcept\u001b[39;00m \u001b[38;5;167;01mKeyError\u001b[39;00m:\n",
      "\u001b[0;31mKeyError\u001b[0m: 'input_1'",
      "\nDuring handling of the above exception, another exception occurred:\n",
      "\u001b[0;31mAttributeError\u001b[0m                            Traceback (most recent call last)",
      "File \u001b[0;32m/etc/ecmwf/nfs/dh2_home_a/ecm5702/dev/anemoi-inference/src/anemoi/inference/ds_checkpoint.py:47\u001b[0m, in \u001b[0;36mCheckpoint_1._metadata\u001b[0;34m(self)\u001b[0m\n\u001b[1;32m     46\u001b[0m \u001b[38;5;28;01mtry\u001b[39;00m:\n\u001b[0;32m---> 47\u001b[0m     \u001b[38;5;28;01mreturn\u001b[39;00m \u001b[43mMetadata_1\u001b[49m\u001b[43m(\u001b[49m\u001b[38;5;241;43m*\u001b[39;49m\u001b[43mload_metadata\u001b[49m\u001b[43m(\u001b[49m\u001b[38;5;28;43mself\u001b[39;49m\u001b[38;5;241;43m.\u001b[39;49m\u001b[43mpath\u001b[49m\u001b[43m,\u001b[49m\u001b[43m \u001b[49m\u001b[43msupporting_arrays\u001b[49m\u001b[38;5;241;43m=\u001b[39;49m\u001b[38;5;28;43;01mTrue\u001b[39;49;00m\u001b[43m)\u001b[49m\u001b[43m)\u001b[49m\n\u001b[1;32m     48\u001b[0m \u001b[38;5;28;01mexcept\u001b[39;00m \u001b[38;5;167;01mException\u001b[39;00m \u001b[38;5;28;01mas\u001b[39;00m e:\n",
      "File \u001b[0;32m/etc/ecmwf/nfs/dh2_home_a/ecm5702/dev/anemoi-inference/src/anemoi/inference/ds_metadata.py:36\u001b[0m, in \u001b[0;36mMetadata_1.__init__\u001b[0;34m(self, metadata, supporting_arrays)\u001b[0m\n\u001b[1;32m     35\u001b[0m \u001b[38;5;28msuper\u001b[39m()\u001b[38;5;241m.\u001b[39m\u001b[38;5;21m__init__\u001b[39m(metadata, supporting_arrays)\n\u001b[0;32m---> 36\u001b[0m \u001b[38;5;28mself\u001b[39m\u001b[38;5;241m.\u001b[39m_indices\u001b[38;5;241m.\u001b[39mdata\u001b[38;5;241m.\u001b[39minput \u001b[38;5;241m=\u001b[39m \u001b[38;5;28;43mself\u001b[39;49m\u001b[38;5;241;43m.\u001b[39;49m\u001b[43m_indices\u001b[49m\u001b[38;5;241;43m.\u001b[39;49m\u001b[43mdata\u001b[49m\u001b[38;5;241;43m.\u001b[39;49m\u001b[43minput_1\u001b[49m\n\u001b[1;32m     37\u001b[0m \u001b[38;5;28mself\u001b[39m\u001b[38;5;241m.\u001b[39m_indices\u001b[38;5;241m.\u001b[39mmodel\u001b[38;5;241m.\u001b[39minput \u001b[38;5;241m=\u001b[39m \u001b[38;5;28mself\u001b[39m\u001b[38;5;241m.\u001b[39m_indices\u001b[38;5;241m.\u001b[39mmodel\u001b[38;5;241m.\u001b[39minput_1\n",
      "File \u001b[0;32m/etc/ecmwf/nfs/dh2_home_a/ecm5702/dev/anemoi-utils/src/anemoi/utils/config.py:98\u001b[0m, in \u001b[0;36mDotDict.__getattr__\u001b[0;34m(self, attr)\u001b[0m\n\u001b[1;32m     97\u001b[0m \u001b[38;5;28;01mexcept\u001b[39;00m \u001b[38;5;167;01mKeyError\u001b[39;00m:\n\u001b[0;32m---> 98\u001b[0m     \u001b[38;5;28;01mraise\u001b[39;00m \u001b[38;5;167;01mAttributeError\u001b[39;00m(attr)\n",
      "\u001b[0;31mAttributeError\u001b[0m: input_1",
      "\nDuring handling of the above exception, another exception occurred:\n",
      "\u001b[0;31mKeyError\u001b[0m                                  Traceback (most recent call last)",
      "File \u001b[0;32m/etc/ecmwf/nfs/dh2_home_a/ecm5702/dev/anemoi-utils/src/anemoi/utils/config.py:96\u001b[0m, in \u001b[0;36mDotDict.__getattr__\u001b[0;34m(self, attr)\u001b[0m\n\u001b[1;32m     95\u001b[0m \u001b[38;5;28;01mtry\u001b[39;00m:\n\u001b[0;32m---> 96\u001b[0m     \u001b[38;5;28;01mreturn\u001b[39;00m \u001b[38;5;28;43mself\u001b[39;49m\u001b[43m[\u001b[49m\u001b[43mattr\u001b[49m\u001b[43m]\u001b[49m\n\u001b[1;32m     97\u001b[0m \u001b[38;5;28;01mexcept\u001b[39;00m \u001b[38;5;167;01mKeyError\u001b[39;00m:\n",
      "\u001b[0;31mKeyError\u001b[0m: 'input_1'",
      "\nDuring handling of the above exception, another exception occurred:\n",
      "\u001b[0;31mAttributeError\u001b[0m                            Traceback (most recent call last)",
      "Cell \u001b[0;32mIn[23], line 1\u001b[0m\n\u001b[0;32m----> 1\u001b[0m \u001b[43mcheckpoint_1\u001b[49m\u001b[38;5;241;43m.\u001b[39;49m\u001b[43m_metadata\u001b[49m\u001b[38;5;241m.\u001b[39m_indices\u001b[38;5;241m.\u001b[39mmodel\u001b[38;5;241m.\u001b[39minput\u001b[38;5;241m.\u001b[39mprognostic\n",
      "File \u001b[0;32m/perm/ecm5702/conda/envs/aifs/lib/python3.10/functools.py:981\u001b[0m, in \u001b[0;36mcached_property.__get__\u001b[0;34m(self, instance, owner)\u001b[0m\n\u001b[1;32m    979\u001b[0m val \u001b[38;5;241m=\u001b[39m cache\u001b[38;5;241m.\u001b[39mget(\u001b[38;5;28mself\u001b[39m\u001b[38;5;241m.\u001b[39mattrname, _NOT_FOUND)\n\u001b[1;32m    980\u001b[0m \u001b[38;5;28;01mif\u001b[39;00m val \u001b[38;5;129;01mis\u001b[39;00m _NOT_FOUND:\n\u001b[0;32m--> 981\u001b[0m     val \u001b[38;5;241m=\u001b[39m \u001b[38;5;28;43mself\u001b[39;49m\u001b[38;5;241;43m.\u001b[39;49m\u001b[43mfunc\u001b[49m\u001b[43m(\u001b[49m\u001b[43minstance\u001b[49m\u001b[43m)\u001b[49m\n\u001b[1;32m    982\u001b[0m     \u001b[38;5;28;01mtry\u001b[39;00m:\n\u001b[1;32m    983\u001b[0m         cache[\u001b[38;5;28mself\u001b[39m\u001b[38;5;241m.\u001b[39mattrname] \u001b[38;5;241m=\u001b[39m val\n",
      "File \u001b[0;32m/etc/ecmwf/nfs/dh2_home_a/ecm5702/dev/anemoi-inference/src/anemoi/inference/ds_checkpoint.py:50\u001b[0m, in \u001b[0;36mCheckpoint_1._metadata\u001b[0;34m(self)\u001b[0m\n\u001b[1;32m     48\u001b[0m \u001b[38;5;28;01mexcept\u001b[39;00m \u001b[38;5;167;01mException\u001b[39;00m \u001b[38;5;28;01mas\u001b[39;00m e:\n\u001b[1;32m     49\u001b[0m     LOG\u001b[38;5;241m.\u001b[39mwarning(\u001b[38;5;124m\"\u001b[39m\u001b[38;5;124mVersion for not support `supporting_arrays` (\u001b[39m\u001b[38;5;132;01m%s\u001b[39;00m\u001b[38;5;124m)\u001b[39m\u001b[38;5;124m\"\u001b[39m, e)\n\u001b[0;32m---> 50\u001b[0m     \u001b[38;5;28;01mreturn\u001b[39;00m \u001b[43mMetadata_1\u001b[49m\u001b[43m(\u001b[49m\u001b[43mload_metadata\u001b[49m\u001b[43m(\u001b[49m\u001b[38;5;28;43mself\u001b[39;49m\u001b[38;5;241;43m.\u001b[39;49m\u001b[43mpath\u001b[49m\u001b[43m)\u001b[49m\u001b[43m)\u001b[49m\n",
      "File \u001b[0;32m/etc/ecmwf/nfs/dh2_home_a/ecm5702/dev/anemoi-inference/src/anemoi/inference/ds_metadata.py:36\u001b[0m, in \u001b[0;36mMetadata_1.__init__\u001b[0;34m(self, metadata, supporting_arrays)\u001b[0m\n\u001b[1;32m     34\u001b[0m \u001b[38;5;28;01mdef\u001b[39;00m \u001b[38;5;21m__init__\u001b[39m(\u001b[38;5;28mself\u001b[39m, metadata, supporting_arrays\u001b[38;5;241m=\u001b[39m{}):\n\u001b[1;32m     35\u001b[0m     \u001b[38;5;28msuper\u001b[39m()\u001b[38;5;241m.\u001b[39m\u001b[38;5;21m__init__\u001b[39m(metadata, supporting_arrays)\n\u001b[0;32m---> 36\u001b[0m     \u001b[38;5;28mself\u001b[39m\u001b[38;5;241m.\u001b[39m_indices\u001b[38;5;241m.\u001b[39mdata\u001b[38;5;241m.\u001b[39minput \u001b[38;5;241m=\u001b[39m \u001b[38;5;28;43mself\u001b[39;49m\u001b[38;5;241;43m.\u001b[39;49m\u001b[43m_indices\u001b[49m\u001b[38;5;241;43m.\u001b[39;49m\u001b[43mdata\u001b[49m\u001b[38;5;241;43m.\u001b[39;49m\u001b[43minput_1\u001b[49m\n\u001b[1;32m     37\u001b[0m     \u001b[38;5;28mself\u001b[39m\u001b[38;5;241m.\u001b[39m_indices\u001b[38;5;241m.\u001b[39mmodel\u001b[38;5;241m.\u001b[39minput \u001b[38;5;241m=\u001b[39m \u001b[38;5;28mself\u001b[39m\u001b[38;5;241m.\u001b[39m_indices\u001b[38;5;241m.\u001b[39mmodel\u001b[38;5;241m.\u001b[39minput_1\n",
      "File \u001b[0;32m/etc/ecmwf/nfs/dh2_home_a/ecm5702/dev/anemoi-utils/src/anemoi/utils/config.py:98\u001b[0m, in \u001b[0;36mDotDict.__getattr__\u001b[0;34m(self, attr)\u001b[0m\n\u001b[1;32m     96\u001b[0m     \u001b[38;5;28;01mreturn\u001b[39;00m \u001b[38;5;28mself\u001b[39m[attr]\n\u001b[1;32m     97\u001b[0m \u001b[38;5;28;01mexcept\u001b[39;00m \u001b[38;5;167;01mKeyError\u001b[39;00m:\n\u001b[0;32m---> 98\u001b[0m     \u001b[38;5;28;01mraise\u001b[39;00m \u001b[38;5;167;01mAttributeError\u001b[39;00m(attr)\n",
      "\u001b[0;31mAttributeError\u001b[0m: input_1"
     ]
    }
   ],
   "source": [
    "checkpoint_1._metadata._indices.model.input.prognostic"
   ]
  },
  {
   "cell_type": "code",
   "execution_count": 12,
   "id": "35b3b3b0-a772-488d-b85f-882c1190cb3f",
   "metadata": {},
   "outputs": [
    {
     "data": {
      "text/plain": [
       "DotDict({'data': DotDict({'input_0': DotDict({'full': [0, 1, 2, 3, 4], 'prognostic': [0, 1, 2, 3], 'diagnostic': [4], 'forcing': [4]}), 'input_1': DotDict({'full': [0], 'prognostic': [], 'diagnostic': [0], 'forcing': [0]}), 'output': DotDict({'full': [0, 1, 2, 3], 'prognostic': [0, 1, 2, 3], 'diagnostic': [], 'forcing': []}), 'input': DotDict({'full': [0], 'prognostic': [], 'diagnostic': [0], 'forcing': [0]})}), 'model': DotDict({'input_0': DotDict({'full': [0, 1, 2, 3, 4], 'prognostic': [0, 1, 2, 3], 'diagnostic': [4], 'forcing': [4]}), 'input_1': DotDict({'full': [0], 'prognostic': [], 'diagnostic': [0], 'forcing': [0]}), 'output': DotDict({'full': [0, 1, 2, 3], 'prognostic': [0, 1, 2, 3], 'diagnostic': [], 'forcing': []}), 'input': DotDict({'full': [0], 'prognostic': [], 'diagnostic': [0], 'forcing': [0]})})})"
      ]
     },
     "execution_count": 12,
     "metadata": {},
     "output_type": "execute_result"
    }
   ],
   "source": [
    "checkpoint_1._metadata._indices"
   ]
  },
  {
   "cell_type": "code",
   "execution_count": 13,
   "id": "496c1af0-8459-4cf4-9526-3b4d93de2ed6",
   "metadata": {},
   "outputs": [
    {
     "data": {
      "text/plain": [
       "[0, 1, 2, 3]"
      ]
     },
     "execution_count": 13,
     "metadata": {},
     "output_type": "execute_result"
    }
   ],
   "source": [
    "checkpoint_1._metadata._indices.model.output.full"
   ]
  },
  {
   "cell_type": "code",
   "execution_count": 14,
   "id": "67367fc5-68c6-4fbc-870e-6e53d4bd85d7",
   "metadata": {},
   "outputs": [
    {
     "data": {
      "text/plain": [
       "[0]"
      ]
     },
     "execution_count": 14,
     "metadata": {},
     "output_type": "execute_result"
    }
   ],
   "source": [
    "checkpoint_1._metadata._indices.model.input.full"
   ]
  },
  {
   "cell_type": "code",
   "execution_count": null,
   "id": "5a409d32-7005-4c0a-9c50-f9f072206710",
   "metadata": {},
   "outputs": [],
   "source": []
  }
 ],
 "metadata": {
  "kernelspec": {
   "display_name": "aifs",
   "language": "python",
   "name": "aifs"
  },
  "language_info": {
   "codemirror_mode": {
    "name": "ipython",
    "version": 3
   },
   "file_extension": ".py",
   "mimetype": "text/x-python",
   "name": "python",
   "nbconvert_exporter": "python",
   "pygments_lexer": "ipython3",
   "version": "3.10.14"
  }
 },
 "nbformat": 4,
 "nbformat_minor": 5
}
